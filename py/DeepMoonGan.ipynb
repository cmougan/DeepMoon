{
 "cells": [
  {
   "cell_type": "code",
   "execution_count": 1,
   "metadata": {},
   "outputs": [
    {
     "name": "stdout",
     "output_type": "stream",
     "text": [
      "Once deleted, variables cannot be recovered. Proceed (y/[n])? y\n"
     ]
    }
   ],
   "source": [
    "%reset"
   ]
  },
  {
   "cell_type": "code",
   "execution_count": 2,
   "metadata": {},
   "outputs": [
    {
     "name": "stdout",
     "output_type": "stream",
     "text": [
      "Using GPU:False\n"
     ]
    }
   ],
   "source": [
    "import torch\n",
    "import torch.nn as nn\n",
    "import torch.nn.functional as F\n",
    "\n",
    "from torch.utils import data\n",
    "import torchvision\n",
    "import sys\n",
    "from copy import deepcopy\n",
    "#from visdom import Visdom\n",
    "\n",
    "from dataset import DeepmoonDataset\n",
    "\n",
    "# CUDA for PyTorch\n",
    "use_cuda = torch.cuda.is_available()\n",
    "device = torch.device(\"cuda:0\" if use_cuda else \"cpu\")\n",
    "Tensor = torch.cuda.FloatTensor if use_cuda else torch.FloatTensor\n",
    "\n",
    "\n",
    "# Visualization\n",
    "import time\n",
    "from IPython import display\n",
    "import matplotlib.pyplot as plt\n",
    "%matplotlib inline\n",
    "plt.style.use('ggplot')\n",
    "\n",
    "#More libraries\n",
    "import random\n",
    "\n",
    "\n",
    "print(\"Using GPU:\" + str(use_cuda))"
   ]
  },
  {
   "cell_type": "markdown",
   "metadata": {},
   "source": [
    "Fix random seed"
   ]
  },
  {
   "cell_type": "code",
   "execution_count": 3,
   "metadata": {},
   "outputs": [],
   "source": [
    "seed = 128\n",
    "\n",
    "torch.backends.cudnn.benchmark = False\n",
    "torch.backends.cudnn.deterministic = True\n",
    "torch.manual_seed(seed)\n",
    "if use_cuda:\n",
    "    torch.cuda.manual_seed_all(seed)\n"
   ]
  },
  {
   "cell_type": "markdown",
   "metadata": {},
   "source": [
    "Parameters"
   ]
  },
  {
   "cell_type": "code",
   "execution_count": 4,
   "metadata": {},
   "outputs": [],
   "source": [
    "batch_size = 128\n",
    "latent_size = 64\n",
    "n_features = 32\n",
    "lr = 0.0002\n",
    "betas = (0.5, 0.999)\n",
    "n_epochs = 10000\n",
    "n_critic = 5\n",
    "n_print = 137\n",
    "gamma = 0.8"
   ]
  },
  {
   "cell_type": "markdown",
   "metadata": {},
   "source": [
    "Paramaters for the constraints"
   ]
  },
  {
   "cell_type": "code",
   "execution_count": 5,
   "metadata": {},
   "outputs": [],
   "source": [
    "start_max = 2\n",
    "end_max = 2\n",
    "start_min = 1\n",
    "end_min = 1\n",
    "lmbda = 10\n"
   ]
  },
  {
   "cell_type": "markdown",
   "metadata": {},
   "source": [
    "Load data and split into training and validation sets"
   ]
  },
  {
   "cell_type": "code",
   "execution_count": 6,
   "metadata": {},
   "outputs": [],
   "source": [
    "json_path = '../data/2016.json'\n",
    "validation_split = 0.2\n",
    "\n",
    "dataset = DeepmoonDataset(json_path)\n",
    "\n",
    "split_len = [round((1-validation_split) * len(dataset)), round(validation_split * len(dataset))]\n",
    "split = {x: y for x, y in zip(['train', 'val'], data.random_split(dataset, lengths=split_len))}\n",
    "\n",
    "loader = {x: data.DataLoader(split[x], batch_size, shuffle=True, num_workers=4) for x in ['train', 'val']}\n"
   ]
  },
  {
   "cell_type": "markdown",
   "metadata": {},
   "source": [
    "### Create the nn"
   ]
  },
  {
   "cell_type": "markdown",
   "metadata": {},
   "source": [
    "Let's define a convolutional and a deep convolutional units"
   ]
  },
  {
   "cell_type": "code",
   "execution_count": 7,
   "metadata": {},
   "outputs": [],
   "source": [
    "class DCUnit(nn.Module):\n",
    "    def __init__(self, in_channels, out_channels, kernel_size, stride, padding):\n",
    "        super(DCUnit, self).__init__()\n",
    "        self.dcunit = nn.Sequential(\n",
    "            nn.ConvTranspose2d(in_channels, out_channels, kernel_size, stride, padding),\n",
    "            nn.BatchNorm2d(out_channels),\n",
    "            nn.ReLU(True)\n",
    "        )\n",
    "\n",
    "    def forward(self, x):\n",
    "        return self.dcunit(x)\n"
   ]
  },
  {
   "cell_type": "code",
   "execution_count": 8,
   "metadata": {},
   "outputs": [],
   "source": [
    "class CUnit(nn.Module):\n",
    "    def __init__(self, in_channels, out_channels, kernel_size, stride, padding):\n",
    "        super(CUnit, self).__init__()\n",
    "        self.cunit = nn.Sequential(\n",
    "            nn.Conv2d(in_channels, out_channels, kernel_size, stride, padding),\n",
    "            nn.InstanceNorm2d(out_channels),\n",
    "            nn.LeakyReLU(0.2, inplace=True)\n",
    "        )\n",
    "\n",
    "    def forward(self, x):\n",
    "        return self.cunit(x)\n"
   ]
  },
  {
   "cell_type": "markdown",
   "metadata": {},
   "source": [
    "Generator Network"
   ]
  },
  {
   "cell_type": "code",
   "execution_count": 9,
   "metadata": {},
   "outputs": [],
   "source": [
    "class Generator(nn.Module):\n",
    "    def __init__(self, latent_size, n_features):\n",
    "        super(Generator, self).__init__()\n",
    "        self.dcnn = nn.Sequential(\n",
    "            DCUnit(latent_size, 4 * n_features, 4, 1, 0),\n",
    "            DCUnit(4 * n_features, 2 * n_features, 4, 2, 1),\n",
    "            DCUnit(2 * n_features, n_features, 4, 2, 1),\n",
    "\n",
    "            nn.ConvTranspose2d(n_features, 3, 4, 2, 1),\n",
    "            nn.Sigmoid(),\n",
    "            nn.Upsample(size=(18, 11))\n",
    "        )\n",
    "\n",
    "    def forward(self, x):\n",
    "        return self.dcnn(x)\n",
    "\n"
   ]
  },
  {
   "cell_type": "markdown",
   "metadata": {},
   "source": [
    "Discriminator Network"
   ]
  },
  {
   "cell_type": "code",
   "execution_count": 10,
   "metadata": {},
   "outputs": [],
   "source": [
    "class Discriminator(nn.Module):\n",
    "    def __init__(self, n_features):\n",
    "        super(Discriminator, self).__init__()\n",
    "\n",
    "        self.cnn = nn.Sequential(\n",
    "            nn.Upsample(size=(32, 32)),\n",
    "\n",
    "            CUnit(3, n_features, 4, 2, 1),\n",
    "            CUnit(n_features, 2 * n_features, 4, 2, 1),\n",
    "            CUnit(2 * n_features, 4 * n_features, 4, 2, 1),\n",
    "\n",
    "            nn.Conv2d(4 * n_features, 1, 4, 1, 0),\n",
    "        )\n",
    "\n",
    "        self.fc = nn.Sequential(nn.Linear(1 + 1, 32),nn.Linear(32, 1))\n",
    "\n",
    "    def forward(self, x):\n",
    "        img, penalty = x\n",
    "        out_img = self.cnn(img).view(img.size(0), -1)\n",
    "        inputs = torch.cat([out_img, penalty], dim=1)\n",
    "        return self.fc(inputs)\n"
   ]
  },
  {
   "cell_type": "code",
   "execution_count": 11,
   "metadata": {},
   "outputs": [
    {
     "data": {
      "text/plain": [
       "Discriminator(\n",
       "  (cnn): Sequential(\n",
       "    (0): Upsample(size=(32, 32), mode=nearest)\n",
       "    (1): CUnit(\n",
       "      (cunit): Sequential(\n",
       "        (0): Conv2d(3, 32, kernel_size=(4, 4), stride=(2, 2), padding=(1, 1))\n",
       "        (1): InstanceNorm2d(32, eps=1e-05, momentum=0.1, affine=False, track_running_stats=False)\n",
       "        (2): LeakyReLU(negative_slope=0.2, inplace)\n",
       "      )\n",
       "    )\n",
       "    (2): CUnit(\n",
       "      (cunit): Sequential(\n",
       "        (0): Conv2d(32, 64, kernel_size=(4, 4), stride=(2, 2), padding=(1, 1))\n",
       "        (1): InstanceNorm2d(64, eps=1e-05, momentum=0.1, affine=False, track_running_stats=False)\n",
       "        (2): LeakyReLU(negative_slope=0.2, inplace)\n",
       "      )\n",
       "    )\n",
       "    (3): CUnit(\n",
       "      (cunit): Sequential(\n",
       "        (0): Conv2d(64, 128, kernel_size=(4, 4), stride=(2, 2), padding=(1, 1))\n",
       "        (1): InstanceNorm2d(128, eps=1e-05, momentum=0.1, affine=False, track_running_stats=False)\n",
       "        (2): LeakyReLU(negative_slope=0.2, inplace)\n",
       "      )\n",
       "    )\n",
       "    (4): Conv2d(128, 1, kernel_size=(4, 4), stride=(1, 1))\n",
       "  )\n",
       "  (fc): Sequential(\n",
       "    (0): Linear(in_features=2, out_features=32, bias=True)\n",
       "    (1): Linear(in_features=32, out_features=1, bias=True)\n",
       "  )\n",
       ")"
      ]
     },
     "execution_count": 11,
     "metadata": {},
     "output_type": "execute_result"
    }
   ],
   "source": [
    "netG = Generator(latent_size, n_features)\n",
    "netD = Discriminator(n_features)\n",
    "netG.to(device)\n",
    "netD.to(device)"
   ]
  },
  {
   "cell_type": "code",
   "execution_count": 12,
   "metadata": {},
   "outputs": [],
   "source": [
    "optimizerD = torch.optim.Adam(netD.parameters(), lr, betas)\n",
    "optimizerG = torch.optim.Adam(netG.parameters(), lr, betas)"
   ]
  },
  {
   "cell_type": "markdown",
   "metadata": {},
   "source": [
    "Im not sure of what this function does"
   ]
  },
  {
   "cell_type": "code",
   "execution_count": 13,
   "metadata": {},
   "outputs": [],
   "source": [
    "class RoundNoGradient(torch.autograd.Function):\n",
    "    @staticmethod\n",
    "    def forward(ctx, x):\n",
    "        return x.round()\n",
    "    @staticmethod\n",
    "    def backward(ctx, g):\n",
    "        return g\n"
   ]
  },
  {
   "cell_type": "markdown",
   "metadata": {},
   "source": [
    "Define penalties"
   ]
  },
  {
   "cell_type": "code",
   "execution_count": 14,
   "metadata": {},
   "outputs": [],
   "source": [
    "def channel_penalty(x_fake, start_max, end_max, start_min, end_min):\n",
    "    count = torch.sum(RoundNoGradient.apply(x_fake), (2, 3))\n",
    "\n",
    "    count_start = count[:, 0]\n",
    "    count_end = count[:, 2]\n",
    "\n",
    "    g_start_max = torch.relu(count_start - start_max) ** 2\n",
    "    g_end_max = torch.relu(count_end - end_max) ** 2\n",
    "\n",
    "    g_start_min = torch.relu(-count_start + start_min) ** 2\n",
    "    g_end_min = torch.relu(-count_end + end_min) ** 2\n",
    "    return (g_start_max + g_end_max + g_start_min + g_end_min).view(x_fake.size(0), -1)\n",
    "\n",
    "def duplicate_penalty(x_fake):\n",
    "    count = torch.sum(RoundNoGradient.apply(x_fake), 1, keepdim=True)\n",
    "    g = torch.sum(torch.relu(count - 1) ** 2, (2, 3))\n",
    "    return g.view(x_fake.size(0), -1)\n",
    "\n",
    "def gradient_penalty(D, x_real, x_fake,penalty):\n",
    "    batch_size = x_real.size(0)\n",
    "\n",
    "    epsilon = torch.rand(batch_size, 1, 1, 1, device=device)\n",
    "    x_merged = (epsilon * x_real + (1 - epsilon) * x_fake).requires_grad_(True)\n",
    "    out_merged = D((x_merged, penalty))\n",
    "\n",
    "    grad, = torch.autograd.grad(\n",
    "        outputs=out_merged,\n",
    "        inputs=x_merged,\n",
    "        grad_outputs=Tensor(batch_size, 1).fill_(1),\n",
    "        create_graph=True,\n",
    "        retain_graph=True,\n",
    "        only_inputs=True\n",
    "    )\n",
    "\n",
    "    return ((grad.view(batch_size, -1).norm(2, dim=1) - 1)**2).mean()\n",
    "\n",
    "def avg_start_end(x_fake, start_max, end_max, start_min, end_min):\n",
    "    count = torch.sum(x_fake.round(), (2, 3))\n",
    "\n",
    "    count_start = count[:, 0]\n",
    "    count_end = count[:, 2]\n",
    "\n",
    "    count_start.apply_(lambda x: 1 if start_max >= x >= start_min else 0)\n",
    "    count_end.apply_(lambda x: 1 if end_max >= x >= end_min else 0)\n",
    "\n",
    "    valid_solutions = Tensor([1 if s == 1 and e == 1 else 0\n",
    "                              for s, e in zip(count_start, count_end)])\n",
    "\n",
    "    return count_start.mean(), count_end.mean(), valid_solutions.mean()\n"
   ]
  },
  {
   "cell_type": "code",
   "execution_count": 15,
   "metadata": {},
   "outputs": [
    {
     "data": {
      "text/plain": [
       "4"
      ]
     },
     "execution_count": 15,
     "metadata": {},
     "output_type": "execute_result"
    }
   ],
   "source": [
    "epoch=1000\n",
    "4 if epoch > 100 else torch.zeros([10, 1], device=device)\n"
   ]
  },
  {
   "cell_type": "code",
   "execution_count": 16,
   "metadata": {},
   "outputs": [
    {
     "name": "stderr",
     "output_type": "stream",
     "text": [
      "/Users/cmougan/anaconda3/lib/python3.6/site-packages/torch/nn/modules/upsampling.py:129: UserWarning: nn.Upsample is deprecated. Use nn.functional.interpolate instead.\n",
      "  warnings.warn(\"nn.{} is deprecated. Use nn.functional.interpolate instead.\".format(self.name))\n"
     ]
    },
    {
     "name": "stdout",
     "output_type": "stream",
     "text": [
      "tensor(-0.1970, grad_fn=<NegBackward>)\n"
     ]
    }
   ],
   "source": [
    "def train_generator(optim,real_data,epoch):\n",
    "    netG.zero_grad()\n",
    "\n",
    "    # Creamos una imagen falsa\n",
    "    x_fake = netG(torch.randn(real_data.size(0), latent_size, 1, 1, device=device))\n",
    "\n",
    "     #Calculamos los penalties a esta imagen\n",
    "    penalty = 0.1 * channel_penalty(x_fake, start_max, end_max, start_min, end_min) + 0.1 * duplicate_penalty(x_fake) if epoch > 100 else torch.zeros([real_data.size(0), 1], device=device)\n",
    "\n",
    "            # Calculamos el error del discriminador anadiento tanto la imagen falsa como el penalty\n",
    "    out_fake = netD((x_fake, penalty))\n",
    "\n",
    "    lossG = -torch.mean(out_fake) \\\n",
    "\n",
    "    lossG.backward()\n",
    "    optim.step()\n",
    "    \n",
    "    return lossG\n",
    "\n",
    "for i, data in enumerate(loader['train']):\n",
    "    aa = data['moves'].type(Tensor)\n",
    "    a=train_generator(optimizerG,aa,0)\n",
    "    print(a)\n",
    "    break\n",
    "    "
   ]
  },
  {
   "cell_type": "code",
   "execution_count": 17,
   "metadata": {
    "scrolled": true
   },
   "outputs": [
    {
     "name": "stdout",
     "output_type": "stream",
     "text": [
      "tensor(684.9302, grad_fn=<AddBackward0>)\n"
     ]
    }
   ],
   "source": [
    "def train_discriminator(optim,real_data):\n",
    "   \n",
    "    netD.zero_grad()\n",
    "    # Creamos un set de números aleatorios y producimos una imagen con ellos\n",
    "    z = torch.randn(real_data.size(0), latent_size, 1, 1, device=device)\n",
    "    x_fake = netG(z)\n",
    "    \n",
    "    # Computamos los penalty (definidos en las funciones anteriores)\n",
    "    penalty = 0.1 * channel_penalty(x_fake, start_max, end_max, start_min, end_min) + 0.1 * duplicate_penalty(x_fake) if epoch > 100 else torch.zeros([N, 1], device=device)\n",
    "\n",
    "    \n",
    "    #Hacemos la predicción de la imagen con el discriminador para el real y el fake\n",
    "    out_real = netD((real_data, torch.zeros([real_data.size(0), 1], device=device)))\n",
    "    out_fake = netD((x_fake, penalty))\n",
    "\n",
    "    #Anadimos la loss function interpolando entre la media del error de la real y de fake\n",
    "    # introducimos el valor del penalty\n",
    "    error_d = torch.mean(out_fake) - torch.mean(out_real) + lmbda * gradient_penalty(netD, real_data.data, x_fake.data,penalty) \n",
    "    #Hacemos el backward propagation y damos un step en la dirección del gradiente \n",
    "        # del discriminador\n",
    "    error_d.backward(retain_graph=True)\n",
    "    optim.step()\n",
    "\n",
    "    \n",
    "    return error_d\n",
    "for i, data in enumerate(loader['train']):\n",
    "    aa = data['moves'].type(Tensor)\n",
    "    a=train_discriminator(optimizerD,aa)\n",
    "    print(a)\n",
    "    break\n",
    "    \n",
    "\n"
   ]
  },
  {
   "cell_type": "markdown",
   "metadata": {},
   "source": [
    "Start trainning"
   ]
  },
  {
   "cell_type": "code",
   "execution_count": 18,
   "metadata": {},
   "outputs": [
    {
     "ename": "NameError",
     "evalue": "name 'b' is not defined",
     "output_type": "error",
     "traceback": [
      "\u001b[0;31m---------------------------------------------------------------------------\u001b[0m",
      "\u001b[0;31mNameError\u001b[0m                                 Traceback (most recent call last)",
      "\u001b[0;32m<ipython-input-18-225faebfd41c>\u001b[0m in \u001b[0;36m<module>\u001b[0;34m\u001b[0m\n\u001b[1;32m     30\u001b[0m \u001b[0mZ2\u001b[0m \u001b[0;34m=\u001b[0m \u001b[0mfunc3\u001b[0m\u001b[0;34m(\u001b[0m\u001b[0mX\u001b[0m\u001b[0;34m,\u001b[0m \u001b[0mY\u001b[0m\u001b[0;34m)\u001b[0m\u001b[0;34m\u001b[0m\u001b[0;34m\u001b[0m\u001b[0m\n\u001b[1;32m     31\u001b[0m \u001b[0;34m\u001b[0m\u001b[0m\n\u001b[0;32m---> 32\u001b[0;31m im2 = plt.imshow(b, cmap='mako', alpha=1, interpolation='bilinear',\n\u001b[0m\u001b[1;32m     33\u001b[0m                  extent=extent)\n\u001b[1;32m     34\u001b[0m \u001b[0;34m\u001b[0m\u001b[0m\n",
      "\u001b[0;31mNameError\u001b[0m: name 'b' is not defined"
     ]
    },
    {
     "data": {
      "image/png": "[encoded data removed]",
      "text/plain": [
       "<Figure size 432x288 with 1 Axes>"
      ]
     },
     "metadata": {},
     "output_type": "display_data"
    }
   ],
   "source": [
    "import matplotlib.pyplot as plt\n",
    "import numpy as np\n",
    "\n",
    "\n",
    "def func3(x, y):\n",
    "    return (1 - x / 2 + x**5 + y**3) * np.exp(-(x**2 + y**2))\n",
    "\n",
    "\n",
    "# make these smaller to increase the resolution\n",
    "dx, dy = 0.05, 0.05\n",
    "\n",
    "x = np.arange(-3.0, 3.0, dx)\n",
    "y = np.arange(-3.0, 3.0, dy)\n",
    "X, Y = np.meshgrid(x, y)\n",
    "\n",
    "# when layering multiple images, the images need to have the same\n",
    "# extent.  This does not mean they need to have the same shape, but\n",
    "# they both need to render to the same coordinate system determined by\n",
    "# xmin, xmax, ymin, ymax.  Note if you use different interpolations\n",
    "# for the images their apparent extent could be different due to\n",
    "# interpolation edge effects\n",
    "\n",
    "extent = np.min(x), np.max(x), np.min(y), np.max(y)\n",
    "fig = plt.figure(frameon=False)\n",
    "\n",
    "Z1 = np.add.outer(range(8), range(8)) % 2  # chessboard\n",
    "im1 = plt.imshow(Z1, cmap=plt.cm.gray, interpolation='nearest',\n",
    "                 extent=extent)\n",
    "\n",
    "Z2 = func3(X, Y)\n",
    "\n",
    "im2 = plt.imshow(b, cmap='mako', alpha=1, interpolation='bilinear',\n",
    "                 extent=extent)\n",
    "\n",
    "plt.show()"
   ]
  },
  {
   "cell_type": "code",
   "execution_count": 19,
   "metadata": {},
   "outputs": [],
   "source": [
    "aa[2][0][17][9]=10"
   ]
  },
  {
   "cell_type": "code",
   "execution_count": 20,
   "metadata": {},
   "outputs": [
    {
     "data": {
      "text/plain": [
       "tensor([[ 0.,  0.,  0.,  0.,  0.,  0.,  0.,  0.,  0.,  0.,  0.],\n",
       "        [ 0.,  0.,  0.,  0.,  0.,  0.,  0.,  0.,  0.,  0.,  0.],\n",
       "        [ 0.,  0.,  0.,  0.,  0.,  0.,  0.,  0.,  0.,  0.,  0.],\n",
       "        [ 0.,  0.,  0.,  0.,  0.,  0.,  0.,  0.,  0.,  0.,  0.],\n",
       "        [ 0.,  0.,  0.,  1.,  0.,  1.,  0.,  0.,  0.,  0.,  0.],\n",
       "        [ 0.,  0.,  0.,  0.,  0.,  0.,  0.,  0.,  0.,  0.,  0.],\n",
       "        [ 0.,  0.,  0.,  0.,  0.,  0.,  0.,  0.,  0.,  0.,  0.],\n",
       "        [ 0.,  0.,  0.,  0.,  0.,  0.,  0.,  0.,  0.,  0.,  0.],\n",
       "        [ 0.,  0.,  0.,  0.,  0.,  0.,  0.,  0.,  0.,  0.,  0.],\n",
       "        [ 0.,  0.,  0.,  0.,  0.,  0.,  0.,  0.,  0.,  0.,  0.],\n",
       "        [ 0.,  0.,  0.,  0.,  0.,  0.,  0.,  0.,  0.,  0.,  0.],\n",
       "        [ 0.,  0.,  0.,  0.,  0.,  0.,  0.,  0.,  0.,  0.,  0.],\n",
       "        [ 0.,  0.,  0.,  0.,  0.,  0.,  0.,  0.,  0.,  0.,  0.],\n",
       "        [ 0.,  0.,  0.,  0.,  0.,  0.,  0.,  0.,  0.,  0.,  0.],\n",
       "        [ 0.,  0.,  0.,  0.,  0.,  0.,  0.,  0.,  0.,  0.,  0.],\n",
       "        [ 0.,  0.,  0.,  0.,  0.,  0.,  0.,  0.,  0.,  0.,  0.],\n",
       "        [ 0.,  0.,  0.,  0.,  0.,  0.,  0.,  0.,  0.,  0.,  0.],\n",
       "        [ 0.,  0.,  0.,  0.,  0.,  0.,  0.,  0.,  0., 10.,  0.]])"
      ]
     },
     "execution_count": 20,
     "metadata": {},
     "output_type": "execute_result"
    }
   ],
   "source": [
    "aa[2][0]"
   ]
  },
  {
   "cell_type": "code",
   "execution_count": 21,
   "metadata": {},
   "outputs": [
    {
     "data": {
      "text/plain": [
       "tensor(0.)"
      ]
     },
     "execution_count": 21,
     "metadata": {},
     "output_type": "execute_result"
    }
   ],
   "source": [
    "aa[1][1][3][4]"
   ]
  },
  {
   "cell_type": "code",
   "execution_count": 22,
   "metadata": {},
   "outputs": [
    {
     "ename": "NameError",
     "evalue": "name 'jjj' is not defined",
     "output_type": "error",
     "traceback": [
      "\u001b[0;31m---------------------------------------------------------------------------\u001b[0m",
      "\u001b[0;31mNameError\u001b[0m                                 Traceback (most recent call last)",
      "\u001b[0;32m<ipython-input-22-afe1191027e2>\u001b[0m in \u001b[0;36m<module>\u001b[0;34m\u001b[0m\n\u001b[0;32m----> 1\u001b[0;31m \u001b[0mjjj\u001b[0m\u001b[0;34m\u001b[0m\u001b[0;34m\u001b[0m\u001b[0m\n\u001b[0m",
      "\u001b[0;31mNameError\u001b[0m: name 'jjj' is not defined"
     ]
    }
   ],
   "source": [
    "jjj"
   ]
  },
  {
   "cell_type": "code",
   "execution_count": 23,
   "metadata": {},
   "outputs": [
    {
     "ename": "RuntimeError",
     "evalue": "dimension specified as 0 but tensor has no dimensions",
     "output_type": "error",
     "traceback": [
      "\u001b[0;31m---------------------------------------------------------------------------\u001b[0m",
      "\u001b[0;31mRuntimeError\u001b[0m                              Traceback (most recent call last)",
      "\u001b[0;32m<ipython-input-23-4c52d3f7e1da>\u001b[0m in \u001b[0;36m<module>\u001b[0;34m\u001b[0m\n\u001b[0;32m----> 1\u001b[0;31m \u001b[0ma\u001b[0m\u001b[0;34m[\u001b[0m\u001b[0;36m41\u001b[0m\u001b[0;34m]\u001b[0m\u001b[0;34m[\u001b[0m\u001b[0;36m2\u001b[0m\u001b[0;34m]\u001b[0m\u001b[0;34m\u001b[0m\u001b[0;34m\u001b[0m\u001b[0m\n\u001b[0m",
      "\u001b[0;31mRuntimeError\u001b[0m: dimension specified as 0 but tensor has no dimensions"
     ]
    }
   ],
   "source": [
    "a[41][2]"
   ]
  },
  {
   "cell_type": "code",
   "execution_count": 33,
   "metadata": {},
   "outputs": [],
   "source": [
    "i=41\n",
    "a = aa\n",
    "a[i][2][17][1]=1\n",
    "#a[i][][17][9]= 1\n",
    "b = 3*(a[i][0])+10*a[i][1]+15*a[i][2]\n",
    "\n"
   ]
  },
  {
   "cell_type": "code",
   "execution_count": 30,
   "metadata": {},
   "outputs": [
    {
     "data": {
      "text/plain": [
       "torch.Size([18, 11])"
      ]
     },
     "execution_count": 30,
     "metadata": {},
     "output_type": "execute_result"
    }
   ],
   "source": [
    "b.size()"
   ]
  },
  {
   "cell_type": "code",
   "execution_count": 58,
   "metadata": {},
   "outputs": [],
   "source": [
    "bb = torch.zeros_like(b)"
   ]
  },
  {
   "cell_type": "code",
   "execution_count": 59,
   "metadata": {},
   "outputs": [],
   "source": [
    "bb[0][6] = 3\n",
    "\n",
    "bb[1][8] = 10\n",
    "bb[4][8] = 10\n",
    "bb[6][10] = 10\n",
    "bb[8][9] = 10\n",
    "bb[10][9] = 10\n",
    "bb[12][7] = 10\n",
    "\n",
    "bb[13][10] = 15\n",
    "bb[16][7] = 15\n"
   ]
  },
  {
   "cell_type": "code",
   "execution_count": 60,
   "metadata": {},
   "outputs": [
    {
     "data": {
      "text/plain": [
       "tensor([[ 0.,  0.,  0.,  0.,  0.,  0.,  3.,  0.,  0.,  0.,  0.],\n",
       "        [ 0.,  0.,  0.,  0.,  0.,  0.,  0.,  0., 10.,  0.,  0.],\n",
       "        [ 0.,  0.,  0.,  0.,  0.,  0.,  0.,  0.,  0.,  0.,  0.],\n",
       "        [ 0.,  0.,  0.,  0.,  0.,  0.,  0.,  0.,  0.,  0.,  0.],\n",
       "        [ 0.,  0.,  0.,  0.,  0.,  0.,  0.,  0., 10.,  0.,  0.],\n",
       "        [ 0.,  0.,  0.,  0.,  0.,  0.,  0.,  0.,  0.,  0.,  0.],\n",
       "        [ 0.,  0.,  0.,  0.,  0.,  0.,  0.,  0.,  0.,  0., 10.],\n",
       "        [ 0.,  0.,  0.,  0.,  0.,  0.,  0.,  0.,  0.,  0.,  0.],\n",
       "        [ 0.,  0.,  0.,  0.,  0.,  0.,  0.,  0.,  0., 10.,  0.],\n",
       "        [ 0.,  0.,  0.,  0.,  0.,  0.,  0.,  0.,  0.,  0.,  0.],\n",
       "        [ 0.,  0.,  0.,  0.,  0.,  0.,  0.,  0.,  0., 10.,  0.],\n",
       "        [ 0.,  0.,  0.,  0.,  0.,  0.,  0.,  0.,  0.,  0.,  0.],\n",
       "        [ 0.,  0.,  0.,  0.,  0.,  0.,  0., 10.,  0.,  0.,  0.],\n",
       "        [ 0.,  0.,  0.,  0.,  0.,  0.,  0.,  0.,  0.,  0., 15.],\n",
       "        [ 0.,  0.,  0.,  0.,  0.,  0.,  0.,  0.,  0.,  0.,  0.],\n",
       "        [ 0.,  0.,  0.,  0.,  0.,  0.,  0.,  0.,  0.,  0.,  0.],\n",
       "        [ 0.,  0.,  0.,  0.,  0.,  0.,  0., 15.,  0.,  0.,  0.],\n",
       "        [ 0.,  0.,  0.,  0.,  0.,  0.,  0.,  0.,  0.,  0.,  0.]])"
      ]
     },
     "execution_count": 60,
     "metadata": {},
     "output_type": "execute_result"
    }
   ],
   "source": [
    "bb"
   ]
  },
  {
   "cell_type": "code",
   "execution_count": 61,
   "metadata": {},
   "outputs": [],
   "source": [
    "import seaborn as sns\n",
    "sns.set_style(\"ticks\")\n",
    "plt.style.use('ggplot')"
   ]
  },
  {
   "cell_type": "code",
   "execution_count": 62,
   "metadata": {},
   "outputs": [
    {
     "data": {
      "image/png": "[encoded data removed]",
      "text/plain": [
       "<Figure size 432x288 with 1 Axes>"
      ]
     },
     "metadata": {},
     "output_type": "display_data"
    }
   ],
   "source": [
    "plt.imshow(b, cmap='mako')\n",
    "plt.show()"
   ]
  },
  {
   "cell_type": "code",
   "execution_count": 64,
   "metadata": {},
   "outputs": [
    {
     "data": {
      "image/png": "[encoded data removed]",
      "text/plain": [
       "<Figure size 432x288 with 2 Axes>"
      ]
     },
     "metadata": {},
     "output_type": "display_data"
    }
   ],
   "source": [
    "ax = sns.heatmap(bb, linewidth=0.9, cmap=\"Reds\")\n",
    "ax.set(xticklabels=[''])\n",
    "ax.set(yticklabels=[])\n",
    "plt.savefig('encodingmoond.png')\n",
    "plt.show()"
   ]
  },
  {
   "cell_type": "code",
   "execution_count": null,
   "metadata": {
    "scrolled": true
   },
   "outputs": [],
   "source": [
    "fixed_noise = torch.randn(128, latent_size, 1, 1, device=device)\n",
    "\n",
    "history = {'lossD': [], 'lossG': [], 'avgStart': [], 'avgEnd': [],\n",
    "           'valid': [], 'validHist': [], 'imgs': [],'epoch': []}\n",
    "\n",
    "for epoch in range(n_epochs):\n",
    "\n",
    "    for i, data in enumerate(loader['train']):\n",
    "\n",
    "        x_real = data['moves'].type(Tensor)\n",
    "        break\n",
    "       \n",
    "\n",
    "       \n",
    "        N = x_real.size(0)\n",
    "        \n",
    "        lossD = train_discriminator(optimizerD,x_real)\n",
    "\n",
    "        # En un número ciclico de veces entrenamos el Generador\n",
    "        if i % n_critic == 0:\n",
    "\n",
    "            lossG = train_generator(optimizerG,x_real,epoch)\n",
    "\n",
    "        # Print training stats\n",
    "        if i % n_print == 0:\n",
    "            \n",
    "            plt.figure()\n",
    "            plt.plot(history['lossD'],'r',label='loss_Discriminator')\n",
    "            plt.plot(history['lossG'],'k',label='loss_Generator')\n",
    "            plt.plot(history['avgStart'],'*b',label='Average Start')\n",
    "            plt.plot(history['avgEnd'],'*y',label='Average End')\n",
    "            \n",
    "            plt.legend(loc=(1,0.7))\n",
    "            \n",
    "            try:\n",
    "                plt.title('Generator and Discriminator loss evolution in epoch: {}'.format(history['epoch'][-1]))\n",
    "            except:\n",
    "                plt.title('Generator and Discriminator loss evolution in epoch: 0')\n",
    "            \n",
    "            display.clear_output(wait=False)\n",
    "            display.display(plt.gcf())\n",
    "            time.sleep(1)\n",
    "            print(\n",
    "                \"[Epoch {:5}/{:5}] [Batch {:3}/{:3}] [D loss: {:2.6f}] [G loss: {:2.6f}]\".format(\n",
    "                    epoch, n_epochs, i, len(loader['train']), lossD.item(), lossG.item()\n",
    "                )\n",
    "            )\n",
    "\n",
    "\n",
    "    # Save losses in history and update plot\n",
    "    with torch.no_grad():\n",
    "        history['imgs'] += [netG(fixed_noise).detach().cpu()]\n",
    "        avgStart, avgEnd, valid = avg_start_end(history['imgs'][-1].detach(), start_max, end_max, start_min, end_min)\n",
    "\n",
    "    history['lossD'] += [lossD.item()]\n",
    "    history['lossG'] += [lossG.item()]\n",
    "    history['avgStart'] += [avgStart.item()]\n",
    "    history['avgEnd'] += [avgEnd.item()]\n",
    "    history['valid'] += [valid.item()]\n",
    "    history['validHist'] += [sum(history['valid'][-20:]) / len(history['valid'][-20:])]\n",
    "    history['epoch'] += [epoch]\n"
   ]
  },
  {
   "cell_type": "code",
   "execution_count": null,
   "metadata": {},
   "outputs": [],
   "source": []
  },
  {
   "cell_type": "code",
   "execution_count": null,
   "metadata": {},
   "outputs": [],
   "source": []
  },
  {
   "cell_type": "code",
   "execution_count": null,
   "metadata": {},
   "outputs": [],
   "source": []
  },
  {
   "cell_type": "code",
   "execution_count": null,
   "metadata": {},
   "outputs": [],
   "source": []
  },
  {
   "cell_type": "code",
   "execution_count": null,
   "metadata": {},
   "outputs": [],
   "source": []
  }
 ],
 "metadata": {
  "kernelspec": {
   "display_name": "Python 3",
   "language": "python",
   "name": "python3"
  },
  "language_info": {
   "codemirror_mode": {
    "name": "ipython",
    "version": 3
   },
   "file_extension": ".py",
   "mimetype": "text/x-python",
   "name": "python",
   "nbconvert_exporter": "python",
   "pygments_lexer": "ipython3",
   "version": "3.6.8"
  }
 },
 "nbformat": 4,
 "nbformat_minor": 2
}
